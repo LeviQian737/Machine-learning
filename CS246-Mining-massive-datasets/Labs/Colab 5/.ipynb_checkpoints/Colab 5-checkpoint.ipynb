{
 "cells": [
  {
   "cell_type": "code",
   "execution_count": 1,
   "metadata": {},
   "outputs": [],
   "source": [
    "import pandas as pd\n",
    "import numpy as np\n",
    "import matplotlib.pyplot as plt\n",
    "%matplotlib inline"
   ]
  },
  {
   "cell_type": "code",
   "execution_count": 2,
   "metadata": {},
   "outputs": [],
   "source": [
    "import networkx as nx\n",
    "\n",
    "G = nx.read_edgelist('web-Stanford.txt', create_using=nx.DiGraph)"
   ]
  },
  {
   "cell_type": "markdown",
   "metadata": {},
   "source": [
    "Task:To begin with, let's simplify our analysis by ignoring the dangling nodes and the disconnected components in the original graph.\n",
    "\n",
    "Use NetworkX to identify the largest weakly connected component in the G graph. From now on, use this connected component for all the following tasks."
   ]
  },
  {
   "cell_type": "code",
   "execution_count": null,
   "metadata": {},
   "outputs": [],
   "source": []
  },
  {
   "cell_type": "markdown",
   "metadata": {},
   "source": [
    "Compute the PageRank vector, using the default parameters in NetworkX: https://networkx.github.io/documentation/stable/reference/algorithms/generated/networkx.algorithms.link_analysis.pagerank_alg.pagerank.html#networkx.algorithms.link_analysis.pagerank_alg.pageranky"
   ]
  },
  {
   "cell_type": "code",
   "execution_count": null,
   "metadata": {},
   "outputs": [],
   "source": []
  },
  {
   "cell_type": "markdown",
   "metadata": {},
   "source": [
    "In 1999, Barabási and Albert proposed an elegant mathematical model which can generate graphs with topological properties similar to the Web Graph (also called Scale-free Networks).\n",
    "\n",
    "If you complete the steps below, you should obtain some empirical evidence that the Random Graph model is inferior compared to the Barabási–Albert model when it comes to generating a graph resembling the World Wide Web!\n",
    "\n",
    "As such, we will use two different graph generator methods, and then we will test how well they approximate the Web Graph structure by means of comparing the respective PageRank vectors. [NetworkX Graph generators]\n",
    "\n",
    "https://networkx.github.io/documentation/stable/reference/generators.html#\n",
    "\n",
    "Using for both methods seed = 1, generate:\n",
    "\n",
    "a random graph (with the fast method), setting n equal to the number of nodes in the original connected component, and p = 0.00008\n",
    "a Barabasi-Albert graph (with the standard method), setting n equal to the number of nodes in the original connected component, and finding the right integer value for m such as the resulting number of edges approximates by excess the number of edges in the original connected component\n",
    "and compute the PageRank vectors for both graphs."
   ]
  },
  {
   "cell_type": "code",
   "execution_count": null,
   "metadata": {},
   "outputs": [],
   "source": []
  },
  {
   "cell_type": "markdown",
   "metadata": {},
   "source": [
    "Compare the PageRank vectors obtained on the generated graphs with the PageRank vector you computed on the original connected component. Sort the components of each vector by value, and use cosine similarity as similarity measure.\n",
    "\n",
    "Feel free to use any implementation of the cosine similarity available in third-party libraries, or implement your own with numpy."
   ]
  },
  {
   "cell_type": "code",
   "execution_count": null,
   "metadata": {},
   "outputs": [],
   "source": []
  },
  {
   "cell_type": "code",
   "execution_count": null,
   "metadata": {},
   "outputs": [],
   "source": []
  }
 ],
 "metadata": {
  "kernelspec": {
   "display_name": "Python 3",
   "language": "python",
   "name": "python3"
  },
  "language_info": {
   "codemirror_mode": {
    "name": "ipython",
    "version": 3
   },
   "file_extension": ".py",
   "mimetype": "text/x-python",
   "name": "python",
   "nbconvert_exporter": "python",
   "pygments_lexer": "ipython3",
   "version": "3.7.4"
  }
 },
 "nbformat": 4,
 "nbformat_minor": 2
}
