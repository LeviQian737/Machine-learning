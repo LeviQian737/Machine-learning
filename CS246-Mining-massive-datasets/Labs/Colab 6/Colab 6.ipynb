{
 "cells": [
  {
   "cell_type": "code",
   "execution_count": 70,
   "metadata": {},
   "outputs": [],
   "source": [
    "import graph2vec\n",
    "import networkx as nx\n",
    "import nodevectors\n",
    "import node2vec\n",
    "\n",
    "class Node2Vec(nodevectors.Node2Vec):\n",
    "  \"\"\"\n",
    "  Parameters\n",
    "  ----------\n",
    "  p : float\n",
    "      p parameter of node2vec\n",
    "  q : float\n",
    "      q parameter of node2vec\n",
    "  d : int\n",
    "      dimensionality of the embedding vectors\n",
    "  \"\"\"\n",
    "  def __init__(self, p=1, q=1, d=32):\n",
    "    super().__init__(\n",
    "                     walklen=10,\n",
    "                     epochs=50,\n",
    "                     return_weight=1.0/p,\n",
    "                     neighbor_weight=1.0/q,\n",
    "                     threads=0,\n",
    "                     n_components = d,   \n",
    "                     w2vparams={'window': 4,\n",
    "                                #'size': d, \n",
    "                                'negative': 5, \n",
    "                                'iter': 10,\n",
    "                                'ns_exponent': 0.5,\n",
    "                                'batch_words': 128})"
   ]
  },
  {
   "cell_type": "code",
   "execution_count": 71,
   "metadata": {},
   "outputs": [],
   "source": [
    "import pandas as pd\n",
    "import numpy as np\n",
    "import matplotlib.pyplot as plt\n",
    "%matplotlib inline"
   ]
  },
  {
   "cell_type": "markdown",
   "metadata": {},
   "source": [
    "In the example below, we will try to reproduce the plot in slide 8 of CS246 - Lecture 12."
   ]
  },
  {
   "cell_type": "code",
   "execution_count": 75,
   "metadata": {},
   "outputs": [
    {
     "name": "stdout",
     "output_type": "stream",
     "text": [
      "Making walks... Done, T=0.01\n",
      "Mapping Walk Names... Done, T=0.05\n",
      "Training W2V... WARNING: gensim word2vec version is unoptimizedTry version 3.6 if on windows, versions 3.7 and 3.8 have had issues\n",
      "Done, T=0.18\n"
     ]
    }
   ],
   "source": [
    "# Load the Zachary's Karate Club as a NetworkX Graph object\n",
    "KCG = nx.karate_club_graph()\n",
    "\n",
    "# Fit embedding model to the Karate Club graph\n",
    "n2v = Node2Vec(1, 1, 2)\n",
    "n2v.fit(KCG)"
   ]
  },
  {
   "cell_type": "code",
   "execution_count": 76,
   "metadata": {},
   "outputs": [],
   "source": [
    "embeddings = []\n",
    "for node in KCG.nodes:\n",
    "    embedding = list(n2v.predict(node))\n",
    "    club = KCG.nodes[node]['club']\n",
    "    embeddings.append(embedding + [club])\n",
    "\n",
    "# Construct a pandas dataframe with the 2D embeddings from node2vec,\n",
    "# plus the club name that each node belongs to after the split\n",
    "df = pd.DataFrame(embeddings, columns=['x', 'y', 'club'])"
   ]
  },
  {
   "cell_type": "code",
   "execution_count": 77,
   "metadata": {},
   "outputs": [
    {
     "data": {
      "text/plain": [
       "<matplotlib.axes._subplots.AxesSubplot at 0x7f918e0fc090>"
      ]
     },
     "execution_count": 77,
     "metadata": {},
     "output_type": "execute_result"
    },
    {
     "data": {
      "image/png": "[encoded data removed]",
      "text/plain": [
       "<Figure size 432x288 with 1 Axes>"
      ]
     },
     "metadata": {
      "needs_background": "light"
     },
     "output_type": "display_data"
    }
   ],
   "source": [
    "# Nodes who stayed with the Mr. Hi will be plotted in red, while nodes\n",
    "# who moved with the Officer will be plotted in blue\n",
    "colors = ['red' if x == 'Mr. Hi' else 'blue' for x in df.club]\n",
    "df.plot.scatter(x='x', y='y', s=50, c=colors)"
   ]
  },
  {
   "cell_type": "markdown",
   "metadata": {},
   "source": [
    "If our example trained correctly, you should notice a clear separation between the blue and red nodes. Solely from the graph structure, node2vec could predict how the Zachary's Karate Club split!\n",
    "\n",
    "Tune the hyperparameters p and q, and notice how they affect the resulting embeddings."
   ]
  },
  {
   "cell_type": "markdown",
   "metadata": {},
   "source": [
    "https://en.wikipedia.org/wiki/Barbell_graph\n",
    "\n",
    "Now we will study the behavior of node2vec on barbell graphs.\n",
    "\n",
    "Below you can see a toy example of a barbell graph generated with NetworkX."
   ]
  },
  {
   "cell_type": "code",
   "execution_count": null,
   "metadata": {},
   "outputs": [],
   "source": [
    "toy_barbell = nx.barbell_graph(7, 2)\n",
    "nx.draw_kamada_kawai(toy_barbell)"
   ]
  },
  {
   "cell_type": "code",
   "execution_count": null,
   "metadata": {},
   "outputs": [],
   "source": []
  },
  {
   "cell_type": "markdown",
   "metadata": {},
   "source": [
    "Generate a larger barbell graph, where each complete graph has exactly 1000 nodes, and the path length between the complete graphs is equal to 1 (i.e., all the nodes in the barbell graph belong to either one of the two complete graphs, and the connecting path does not have any internal node).\n",
    "\n",
    "Then, learn node2vec embeddings on this graph, setting p = 1, q = 1 and d = 10."
   ]
  },
  {
   "cell_type": "code",
   "execution_count": null,
   "metadata": {},
   "outputs": [],
   "source": []
  },
  {
   "cell_type": "markdown",
   "metadata": {},
   "source": [
    "Write a function that takes as input a node id n in the graph (e.g., 5) and returns a list containining the cosine similarity between the node2vec vector of the input node n and all the nodes in the given barbell graph (including the similarity with n itself)."
   ]
  },
  {
   "cell_type": "code",
   "execution_count": null,
   "metadata": {},
   "outputs": [],
   "source": []
  },
  {
   "cell_type": "markdown",
   "metadata": {},
   "source": [
    "Generate another barbell graph, this time adding a path of length 51 between the two complete graphs. To find out how, refer to the NetworkX documentation: https://networkx.github.io/documentation/stable/reference/generated/networkx.generators.classic.barbell_graph.html#networkx.generators.classic.barbell_graph\n",
    "\n",
    "Learn the node2vec embeddings for the nodes of this new graph, using the same hyperparameters as before."
   ]
  },
  {
   "cell_type": "code",
   "execution_count": null,
   "metadata": {},
   "outputs": [],
   "source": []
  }
 ],
 "metadata": {
  "kernelspec": {
   "display_name": "Python 3",
   "language": "python",
   "name": "python3"
  },
  "language_info": {
   "codemirror_mode": {
    "name": "ipython",
    "version": 3
   },
   "file_extension": ".py",
   "mimetype": "text/x-python",
   "name": "python",
   "nbconvert_exporter": "python",
   "pygments_lexer": "ipython3",
   "version": "3.7.4"
  }
 },
 "nbformat": 4,
 "nbformat_minor": 2
}
