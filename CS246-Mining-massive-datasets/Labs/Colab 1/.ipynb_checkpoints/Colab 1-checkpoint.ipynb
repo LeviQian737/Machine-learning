{
 "cells": [
  {
   "cell_type": "code",
   "execution_count": 148,
   "metadata": {},
   "outputs": [],
   "source": [
    "import pandas as pd\n",
    "import numpy as np\n",
    "import matplotlib.pyplot as plt\n",
    "import re\n",
    "%matplotlib inline\n",
    "\n",
    "import pyspark\n",
    "from pyspark.sql import *\n",
    "from pyspark.sql.functions import *\n",
    "from pyspark import SparkContext, SparkConf"
   ]
  },
  {
   "cell_type": "code",
   "execution_count": 2,
   "metadata": {},
   "outputs": [],
   "source": [
    "# create the session\n",
    "conf = SparkConf().set(\"spark.ui.port\", \"4050\")\n",
    "\n",
    "# create the context\n",
    "sc = pyspark.SparkContext(conf=conf)\n",
    "spark = SparkSession.builder.getOrCreate()"
   ]
  },
  {
   "cell_type": "code",
   "execution_count": 3,
   "metadata": {},
   "outputs": [
    {
     "data": {
      "text/html": [
       "\n",
       "            <div>\n",
       "                <p><b>SparkSession - in-memory</b></p>\n",
       "                \n",
       "        <div>\n",
       "            <p><b>SparkContext</b></p>\n",
       "\n",
       "            <p><a href=\"http://192.168.2.44:4055\">Spark UI</a></p>\n",
       "\n",
       "            <dl>\n",
       "              <dt>Version</dt>\n",
       "                <dd><code>v3.0.0</code></dd>\n",
       "              <dt>Master</dt>\n",
       "                <dd><code>local[*]</code></dd>\n",
       "              <dt>AppName</dt>\n",
       "                <dd><code>pyspark-shell</code></dd>\n",
       "            </dl>\n",
       "        </div>\n",
       "        \n",
       "            </div>\n",
       "        "
      ],
      "text/plain": [
       "<pyspark.sql.session.SparkSession at 0x7fca27554110>"
      ]
     },
     "execution_count": 3,
     "metadata": {},
     "output_type": "execute_result"
    }
   ],
   "source": [
    "spark"
   ]
  },
  {
   "cell_type": "markdown",
   "metadata": {},
   "source": [
    "Task: Write a Spark application which outputs the number of words that start with each letter. This means that for every letter we want to count the total number of (non-unique) words that start with a specific letter. In your implementation ignore the letter case, i.e., consider all words as lower case. Also, you can ignore all the words starting with a non-alphabetic character."
   ]
  },
  {
   "cell_type": "code",
   "execution_count": 4,
   "metadata": {},
   "outputs": [],
   "source": [
    "text = sc.textFile(\"pg100.txt\")"
   ]
  },
  {
   "cell_type": "code",
   "execution_count": 6,
   "metadata": {},
   "outputs": [
    {
     "data": {
      "text/plain": [
       "['The Project Gutenberg EBook of The Complete Works of William Shakespeare, by',\n",
       " 'William Shakespeare',\n",
       " '',\n",
       " 'This eBook is for the use of anyone anywhere at no cost and with',\n",
       " 'almost no restrictions whatsoever.  You may copy it, give it away or']"
      ]
     },
     "execution_count": 6,
     "metadata": {},
     "output_type": "execute_result"
    }
   ],
   "source": [
    "text.take(5)"
   ]
  },
  {
   "cell_type": "code",
   "execution_count": 169,
   "metadata": {},
   "outputs": [],
   "source": [
    "splitText = text.flatMap(lambda element: element.split(\" \")).filter(lambda a: len(a)>0).filter(lambda b: re.match(r'[a-z]+.*',b))"
   ]
  },
  {
   "cell_type": "code",
   "execution_count": 170,
   "metadata": {},
   "outputs": [],
   "source": [
    "lowerText = splitText.map(lambda element: element.lower())"
   ]
  },
  {
   "cell_type": "code",
   "execution_count": 171,
   "metadata": {},
   "outputs": [
    {
     "data": {
      "text/plain": [
       "['of', 'of', 'by', 'ebook', 'is', 'for', 'the', 'use', 'of', 'anyone']"
      ]
     },
     "execution_count": 171,
     "metadata": {},
     "output_type": "execute_result"
    }
   ],
   "source": [
    "lowerText.take(10)"
   ]
  },
  {
   "cell_type": "code",
   "execution_count": 172,
   "metadata": {},
   "outputs": [],
   "source": [
    "pairedLowerText = lowerText.map(lambda element: [element, 1])"
   ]
  },
  {
   "cell_type": "code",
   "execution_count": 173,
   "metadata": {},
   "outputs": [
    {
     "data": {
      "text/plain": [
       "[['of', 1],\n",
       " ['of', 1],\n",
       " ['by', 1],\n",
       " ['ebook', 1],\n",
       " ['is', 1],\n",
       " ['for', 1],\n",
       " ['the', 1],\n",
       " ['use', 1],\n",
       " ['of', 1],\n",
       " ['anyone', 1]]"
      ]
     },
     "execution_count": 173,
     "metadata": {},
     "output_type": "execute_result"
    }
   ],
   "source": [
    "pairedLowerText.take(10)"
   ]
  },
  {
   "cell_type": "code",
   "execution_count": 174,
   "metadata": {},
   "outputs": [],
   "source": [
    "reducedText = pairedLowerText.reduceByKey(lambda v1, v2: v1+v2)"
   ]
  },
  {
   "cell_type": "code",
   "execution_count": 175,
   "metadata": {},
   "outputs": [
    {
     "data": {
      "text/plain": [
       "[('of', 15649),\n",
       " ('ebook', 9),\n",
       " ('is', 7874),\n",
       " ('use', 266),\n",
       " ('anyone', 4),\n",
       " ('anywhere', 4),\n",
       " ('at', 2227),\n",
       " ('no', 2439),\n",
       " ('restrictions', 2),\n",
       " ('whatsoever.', 3),\n",
       " ('may', 1341),\n",
       " ('it,', 529),\n",
       " ('give', 964),\n",
       " ('away', 294),\n",
       " ('re-use', 2),\n",
       " ('this', 4809),\n",
       " ('online', 4),\n",
       " ('www.gutenberg.org', 2),\n",
       " ('ebook,', 2),\n",
       " ('copyright', 21)]"
      ]
     },
     "execution_count": 175,
     "metadata": {},
     "output_type": "execute_result"
    }
   ],
   "source": [
    "reducedText.take(20)"
   ]
  },
  {
   "cell_type": "raw",
   "metadata": {},
   "source": [
    "# The code above transforms the text file into (word, 1) pairs and reduces, next we will build a pair RDD of (list(word)[0], 1)"
   ]
  },
  {
   "cell_type": "code",
   "execution_count": 176,
   "metadata": {},
   "outputs": [],
   "source": [
    "#Start from lowerText\n",
    "alphabeticText = lowerText.map(lambda element: [list(element)[0], 1])"
   ]
  },
  {
   "cell_type": "code",
   "execution_count": 177,
   "metadata": {},
   "outputs": [],
   "source": [
    "alphaCount = alphabeticText.reduceByKey(lambda v1,v2: v1+v2)"
   ]
  },
  {
   "cell_type": "code",
   "execution_count": 178,
   "metadata": {},
   "outputs": [
    {
     "data": {
      "text/plain": [
       "[('b', 34561),\n",
       " ('i', 32292),\n",
       " ('c', 23496),\n",
       " ('r', 10400),\n",
       " ('g', 14703),\n",
       " ('p', 19344),\n",
       " ('h', 50511),\n",
       " ('y', 21879),\n",
       " ('s', 52643),\n",
       " ('d', 23531),\n",
       " ('l', 22353),\n",
       " ('j', 1593),\n",
       " ('o', 34201),\n",
       " ('e', 10431),\n",
       " ('f', 28819),\n",
       " ('t', 101603),\n",
       " ('u', 7667),\n",
       " ('a', 63748),\n",
       " ('n', 21813),\n",
       " ('w', 44981),\n",
       " ('m', 46233),\n",
       " ('v', 4131),\n",
       " ('q', 1332),\n",
       " ('k', 5789),\n",
       " ('z', 53)]"
      ]
     },
     "execution_count": 178,
     "metadata": {},
     "output_type": "execute_result"
    }
   ],
   "source": [
    "alphaCount.take(alphaCount.count())"
   ]
  }
 ],
 "metadata": {
  "kernelspec": {
   "display_name": "Python 3",
   "language": "python",
   "name": "python3"
  },
  "language_info": {
   "codemirror_mode": {
    "name": "ipython",
    "version": 3
   },
   "file_extension": ".py",
   "mimetype": "text/x-python",
   "name": "python",
   "nbconvert_exporter": "python",
   "pygments_lexer": "ipython3",
   "version": "3.7.4"
  }
 },
 "nbformat": 4,
 "nbformat_minor": 2
}
